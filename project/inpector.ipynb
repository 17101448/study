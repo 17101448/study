{
 "cells": [
  {
   "cell_type": "code",
   "execution_count": 4,
   "metadata": {},
   "outputs": [
    {
     "name": "stdout",
     "output_type": "stream",
     "text": [
      "Requirement already satisfied: pandas in c:\\users\\samsung\\appdata\\local\\programs\\python\\python39\\lib\\site-packages (1.3.5)\n",
      "Requirement already satisfied: python-dateutil>=2.7.3 in c:\\users\\samsung\\appdata\\local\\programs\\python\\python39\\lib\\site-packages (from pandas) (2.8.2)\n",
      "Requirement already satisfied: numpy>=1.17.3 in c:\\users\\samsung\\appdata\\local\\programs\\python\\python39\\lib\\site-packages (from pandas) (1.22.0)\n",
      "Requirement already satisfied: pytz>=2017.3 in c:\\users\\samsung\\appdata\\local\\programs\\python\\python39\\lib\\site-packages (from pandas) (2021.3)\n",
      "Requirement already satisfied: six>=1.5 in c:\\users\\samsung\\appdata\\local\\programs\\python\\python39\\lib\\site-packages (from python-dateutil>=2.7.3->pandas) (1.16.0)\n",
      "Note: you may need to restart the kernel to use updated packages.\n"
     ]
    },
    {
     "name": "stderr",
     "output_type": "stream",
     "text": [
      "WARNING: You are using pip version 21.1.1; however, version 21.3.1 is available.\n",
      "You should consider upgrading via the 'C:\\Users\\samsung\\AppData\\Local\\Programs\\Python\\Python39\\python.exe -m pip install --upgrade pip' command.\n"
     ]
    }
   ],
   "source": [
    "\n",
    "pip install pandas"
   ]
  },
  {
   "cell_type": "code",
   "execution_count": 8,
   "metadata": {},
   "outputs": [
    {
     "name": "stdout",
     "output_type": "stream",
     "text": [
      "Collecting xlrd\n",
      "  Downloading xlrd-2.0.1-py2.py3-none-any.whl (96 kB)\n",
      "Installing collected packages: xlrd\n",
      "Successfully installed xlrd-2.0.1\n",
      "Note: you may need to restart the kernel to use updated packages.\n"
     ]
    },
    {
     "name": "stderr",
     "output_type": "stream",
     "text": [
      "WARNING: You are using pip version 21.1.1; however, version 21.3.1 is available.\n",
      "You should consider upgrading via the 'C:\\Users\\samsung\\AppData\\Local\\Programs\\Python\\Python39\\python.exe -m pip install --upgrade pip' command.\n"
     ]
    }
   ],
   "source": [
    "pip install xlrd"
   ]
  },
  {
   "cell_type": "code",
   "execution_count": 47,
   "metadata": {},
   "outputs": [
    {
     "name": "stdout",
     "output_type": "stream",
     "text": [
      "Collecting openpyxl\n",
      "  Downloading openpyxl-3.0.9-py2.py3-none-any.whl (242 kB)\n",
      "Collecting et-xmlfile\n",
      "  Downloading et_xmlfile-1.1.0-py3-none-any.whl (4.7 kB)\n",
      "Installing collected packages: et-xmlfile, openpyxl\n",
      "Successfully installed et-xmlfile-1.1.0 openpyxl-3.0.9\n",
      "Note: you may need to restart the kernel to use updated packages.\n"
     ]
    },
    {
     "name": "stderr",
     "output_type": "stream",
     "text": [
      "WARNING: You are using pip version 21.1.1; however, version 21.3.1 is available.\n",
      "You should consider upgrading via the 'C:\\Users\\samsung\\AppData\\Local\\Programs\\Python\\Python39\\python.exe -m pip install --upgrade pip' command.\n"
     ]
    }
   ],
   "source": [
    "pip install openpyxl"
   ]
  },
  {
   "cell_type": "code",
   "execution_count": 53,
   "metadata": {},
   "outputs": [
    {
     "name": "stdout",
     "output_type": "stream",
     "text": [
      "Collecting xlwt\n",
      "  Downloading xlwt-1.3.0-py2.py3-none-any.whl (99 kB)\n",
      "Installing collected packages: xlwt\n",
      "Successfully installed xlwt-1.3.0\n",
      "Note: you may need to restart the kernel to use updated packages.\n"
     ]
    },
    {
     "name": "stderr",
     "output_type": "stream",
     "text": [
      "WARNING: You are using pip version 21.1.1; however, version 21.3.1 is available.\n",
      "You should consider upgrading via the 'C:\\Users\\samsung\\AppData\\Local\\Programs\\Python\\Python39\\python.exe -m pip install --upgrade pip' command.\n"
     ]
    }
   ],
   "source": [
    "pip install xlwt"
   ]
  },
  {
   "cell_type": "code",
   "execution_count": 66,
   "metadata": {},
   "outputs": [
    {
     "name": "stdout",
     "output_type": "stream",
     "text": [
      "Note: you may need to restart the kernel to use updated packages.\n"
     ]
    },
    {
     "name": "stderr",
     "output_type": "stream",
     "text": [
      "ERROR: Could not find a version that satisfies the requirement python-datautil (from versions: none)\n",
      "ERROR: No matching distribution found for python-datautil\n",
      "WARNING: You are using pip version 21.1.1; however, version 21.3.1 is available.\n",
      "You should consider upgrading via the 'C:\\Users\\samsung\\AppData\\Local\\Programs\\Python\\Python39\\python.exe -m pip install --upgrade pip' command.\n"
     ]
    }
   ],
   "source": [
    "\n",
    "pip install python-datautil \n",
    "\n"
   ]
  },
  {
   "cell_type": "code",
   "execution_count": 69,
   "metadata": {},
   "outputs": [
    {
     "name": "stdout",
     "output_type": "stream",
     "text": [
      "5\n",
      "3\n"
     ]
    }
   ],
   "source": [
    "import datetime as dt \n",
    "\n",
    "x = dt.datetime.now()\n",
    "date = x.day\n",
    "weekday = x.weekday()\n",
    "\n",
    "monday_date = date-weekday\n",
    "print(date)\n",
    "print(monday_date)\n"
   ]
  },
  {
   "cell_type": "code",
   "execution_count": 5,
   "metadata": {},
   "outputs": [],
   "source": [
    "import pandas as pd "
   ]
  },
  {
   "cell_type": "code",
   "execution_count": null,
   "metadata": {},
   "outputs": [],
   "source": []
  },
  {
   "cell_type": "code",
   "execution_count": 10,
   "metadata": {},
   "outputs": [
    {
     "name": "stdout",
     "output_type": "stream",
     "text": [
      "WARNING *** OLE2 inconsistency: SSCS size is 0 but SSAT size is non-zero\n",
      "         '발생일자'     '발생시간'         '카드번호'            '이름'       '조직 1'  \\\n",
      "0   2022년01월03일  01시01분14초  3703179220008   1111김재연[신소재공]  서울과학기술대 기숙사   \n",
      "1   2022년01월03일  01시03분29초  5406259220008       최진우[기계자동]  서울과학기술대 기숙사   \n",
      "2   2022년01월03일  01시04분04초  3501019440008   1111김정윤[기계시스]  서울과학기술대 기숙사   \n",
      "3   2022년01월03일  01시04분05초  4504089220008   2222문단비[신소재공]  서울과학기술대 기숙사   \n",
      "4   2022년01월03일  01시04분27초  3411249660008   1111정동하[컴퓨터공]  서울과학기술대 기숙사   \n",
      "5   2022년01월03일  01시09분15초  4009059220008   1111송대원[기계시스]  서울과학기술대 기숙사   \n",
      "6   2022년01월03일  01시10분59초  4803199440008   2222김태연[문예창작]  서울과학기술대 기숙사   \n",
      "7   2022년01월03일  01시21분18초  4509229440008   2222구지인[데이터사]  서울과학기술대 기숙사   \n",
      "8   2022년01월03일  01시24분55초  3410259660008   1111이창현[기계시스]  서울과학기술대 기숙사   \n",
      "9   2022년01월03일  01시29분43초  4704299220008   2222장희원[신소재공]  서울과학기술대 기숙사   \n",
      "10  2022년01월03일  01시30분34초  2912229660008   1111이지호[전자IT]  서울과학기술대 기숙사   \n",
      "11  2022년01월03일  01시47분46초  3305319440008   2222손현지[기계자동]  서울과학기술대 기숙사   \n",
      "12  2022년01월03일  01시52분13초  3203119770008   1111김현세[화공생명]  서울과학기술대 기숙사   \n",
      "13  2022년01월03일  02시03분20초  3804059440008   2222김하경[기계시스]  서울과학기술대 기숙사   \n",
      "14  2022년01월03일  02시15분03초  5408139220008  1111마이반뒤[전자it]  서울과학기술대 기숙사   \n",
      "15  2022년01월03일  02시18분22초  3412129660008   1111박성현[기계자동]  서울과학기술대 기숙사   \n",
      "16  2022년01월03일  02시22분22초  4807169220008   2222조은해[에너지환]  서울과학기술대 기숙사   \n",
      "17  2022년01월03일  02시26분52초  2601269770008   1111이현욱[정밀화학]  서울과학기술대 기숙사   \n",
      "18  2022년01월03일  02시43분34초  5306169220008   1111시혁준[MSDE]  서울과학기술대 기숙사   \n",
      "19  2022년01월03일  03시46분46초  3502099220008   1111임충만[글로벌테]  서울과학기술대 기숙사   \n",
      "20  2022년01월03일  04시54분55초  4601039440008   1111최성혁[MSDE]  서울과학기술대 기숙사   \n",
      "\n",
      "        '조직 2'     '조직 3'  '조직 4'            '이벤트상태' '직급'  '기기명'  '설치위치'  \\\n",
      "0   2021년 동계방학       수림학사     NaN  카드열림(P)-출입허가 (입실)  NaN    NaN     NaN   \n",
      "1   2021년 동계방학       수림학사     NaN  카드열림(P)-출입허가 (입실)  NaN    NaN     NaN   \n",
      "2   2021년 동계방학  성림학사 남학생동     NaN  카드열림(P)-출입허가 (입실)  NaN    NaN     NaN   \n",
      "3   2021년 동계방학       누리학사     NaN  카드열림(P)-출입허가 (입실)  NaN    NaN     NaN   \n",
      "4   2021년 동계방학       수림학사     NaN  카드열림(P)-출입허가 (입실)  NaN    NaN     NaN   \n",
      "5   2021년 동계방학       수림학사     NaN  카드열림(P)-출입허가 (입실)  NaN    NaN     NaN   \n",
      "6   2021년 동계방학       누리학사     NaN  카드열림(P)-출입허가 (입실)  NaN    NaN     NaN   \n",
      "7   2021년 동계방학       누리학사     NaN  카드열림(P)-출입허가 (입실)  NaN    NaN     NaN   \n",
      "8   2021년 동계방학  성림학사 남학생동     NaN  카드열림(P)-출입허가 (입실)  NaN    NaN     NaN   \n",
      "9   2021년 동계방학       누리학사     NaN  카드열림(P)-출입허가 (입실)  NaN    NaN     NaN   \n",
      "10  2021년 동계방학       수림학사     NaN  카드열림(P)-출입허가 (입실)  NaN    NaN     NaN   \n",
      "11  2021년 동계방학       누리학사     NaN  카드열림(P)-출입허가 (입실)  NaN    NaN     NaN   \n",
      "12  2021년 동계방학       수림학사     NaN  카드열림(P)-출입허가 (입실)  NaN    NaN     NaN   \n",
      "13  2021년 동계방학       누리학사     NaN  카드열림(P)-출입허가 (입실)  NaN    NaN     NaN   \n",
      "14  2021년 동계방학  성림학사 남학생동     NaN  카드열림(P)-출입허가 (입실)  NaN    NaN     NaN   \n",
      "15  2021년 동계방학  성림학사 남학생동     NaN  카드열림(P)-출입허가 (입실)  NaN    NaN     NaN   \n",
      "16  2021년 동계방학       누리학사     NaN  카드열림(P)-출입허가 (입실)   팀장    NaN     NaN   \n",
      "17  2021년 동계방학  성림학사 남학생동     NaN  카드열림(P)-출입허가 (입실)  NaN    NaN     NaN   \n",
      "18  2021년 동계방학       수림학사     NaN   상시닫힘-상시닫힘모드 출입불가  NaN    NaN     NaN   \n",
      "19  2021년 동계방학  성림학사 남학생동     NaN  카드열림(P)-출입허가 (입실)  NaN    NaN     NaN   \n",
      "20  2021년 동계방학       수림학사     NaN  카드열림(P)-출입허가 (입실)  NaN    NaN     NaN   \n",
      "\n",
      "          '기기코드'  '현재상태'  '사용자'  '조치시각'  '조치자'  '조치내역' '사진유무'   '개인식별번호'  \n",
      "0   200-59-1-6-1     NaN    NaN     NaN    NaN     NaN      X   18100495  \n",
      "1   200-59-1-6-1     NaN    NaN     NaN    NaN     NaN      X  171003880  \n",
      "2   200-48-1-5-1     NaN    NaN     NaN    NaN     NaN      X   18100068  \n",
      "3   200-60-1-3-1     NaN    NaN     NaN    NaN     NaN      X   20100506  \n",
      "4   200-59-1-6-1     NaN    NaN     NaN    NaN     NaN      X   18101269  \n",
      "5   200-59-1-6-1     NaN    NaN     NaN    NaN     NaN      X   19100121  \n",
      "6   200-60-1-3-1     NaN    NaN     NaN    NaN     NaN      X   20101160  \n",
      "7   200-60-1-4-1     NaN    NaN     NaN    NaN     NaN      X   20510021  \n",
      "8   200-48-1-5-1     NaN    NaN     NaN    NaN     NaN      X   18100174  \n",
      "9   200-60-1-3-1     NaN    NaN     NaN    NaN     NaN      X   19100543  \n",
      "10  200-59-1-6-1     NaN    NaN     NaN    NaN     NaN      X   16101696  \n",
      "11  200-60-1-3-1     NaN    NaN     NaN    NaN     NaN      X   18100301  \n",
      "12  200-59-1-6-1     NaN    NaN     NaN    NaN     NaN      X   21101559  \n",
      "13  200-60-1-3-1     NaN    NaN     NaN    NaN     NaN      X   19100076  \n",
      "14  200-48-1-8-1     NaN    NaN     NaN    NaN     NaN      X   18102370  \n",
      "15  200-48-1-5-1     NaN    NaN     NaN    NaN     NaN      X   18100279  \n",
      "16  200-60-1-3-1     NaN    NaN     NaN    NaN     NaN      X   20610048  \n",
      "17  200-48-1-7-1     NaN    NaN     NaN    NaN     NaN      X   18101741  \n",
      "18  200-59-1-2-1     NaN    NaN     NaN    NaN     NaN      X   21512139  \n",
      "19  200-48-1-5-1     NaN    NaN     NaN    NaN     NaN      X   18102131  \n",
      "20  200-59-1-6-1     NaN    NaN     NaN    NaN     NaN      X   21102027  \n"
     ]
    }
   ],
   "source": [
    "df=pd.read_excel(\"C:/Users/samsung/OneDrive/바탕 화면/project/출입기록 22.01.03.xls\")\n",
    "print(df)"
   ]
  },
  {
   "cell_type": "code",
   "execution_count": 73,
   "metadata": {},
   "outputs": [
    {
     "name": "stdout",
     "output_type": "stream",
     "text": [
      "5\n",
      "3\n",
      "WARNING *** OLE2 inconsistency: SSCS size is 0 but SSAT size is non-zero\n",
      "              '이름'   '개인식별번호'\n",
      "0    1111김재연[신소재공]   18100495\n",
      "1        최진우[기계자동]  171003880\n",
      "2    1111김정윤[기계시스]   18100068\n",
      "3    2222문단비[신소재공]   20100506\n",
      "4    1111정동하[컴퓨터공]   18101269\n",
      "5    1111송대원[기계시스]   19100121\n",
      "6    2222김태연[문예창작]   20101160\n",
      "7    2222구지인[데이터사]   20510021\n",
      "8    1111이창현[기계시스]   18100174\n",
      "9    2222장희원[신소재공]   19100543\n",
      "10   1111이지호[전자IT]   16101696\n",
      "11   2222손현지[기계자동]   18100301\n",
      "12   1111김현세[화공생명]   21101559\n",
      "13   2222김하경[기계시스]   19100076\n",
      "14  1111마이반뒤[전자it]   18102370\n",
      "15   1111박성현[기계자동]   18100279\n",
      "16   2222조은해[에너지환]   20610048\n",
      "17   1111이현욱[정밀화학]   18101741\n",
      "18   1111시혁준[MSDE]   21512139\n",
      "19   1111임충만[글로벌테]   18102131\n",
      "20   1111최성혁[MSDE]   21102027\n",
      "WARNING *** OLE2 inconsistency: SSCS size is 0 but SSAT size is non-zero\n",
      "             '이름'  '개인식별번호'\n",
      "0   2222정주현[데이터사]  21512023\n",
      "1   1111최태호[기계공학]  20512026\n",
      "2   2222이시연[금속공예]  20100894\n",
      "3   2222김지영[문예창작]  19101157\n",
      "4   1111이지철[나노바이]  21510241\n",
      "5   2222최예지[전자it]  18101571\n",
      "6     1111노원채[건축]  21510131\n",
      "7   2222황지연[산업정보]  21101989\n",
      "8   1111박정덕[자동차공]  21512082\n",
      "9   1111최규환[기계시스]  17100202\n",
      "10  1111김정윤[기계시스]  18100068\n",
      "11  1111강민서[전자IT]  16101581\n",
      "12  1111이현호[데이터사]  21512076\n",
      "13  1111심성수[기계자동]  21100313\n",
      "14  2222김시안[기계시스]  20100071\n",
      "15  1111강지노[화공생명]  20101606\n",
      "16  1111강동희[스포츠과]  20101840\n",
      "17  1111정종연[기계자동]  18100375\n",
      "18  1111강동희[스포츠과]  20101840\n",
      "19  1111염승환[글로벌테]  18102120\n",
      "20  1111응웬민[컴퓨터공]  21510142\n",
      "21  1111이지호[전자IT]  16101696\n",
      "22  2222서승희[컴퓨터공]  20520017\n",
      "23  1111임도현[기계자차]  21100361\n",
      "24  2222서영채[기계시스]  21100099\n",
      "25  1111김준형[기계자동]  17100265\n",
      "26  1111오치호[안경광학]  21512133\n",
      "27  2222문단비[신소재공]  20100506\n",
      "28  2222구지인[데이터사]  20510021\n",
      "29  1111김민재[건축공학]  16100600\n",
      "30   1111조권능[대학원]  21510010\n",
      "31  2222황지원[안전공학]  17100468\n",
      "WARNING *** OLE2 inconsistency: SSCS size is 0 but SSAT size is non-zero\n",
      "             '이름'  '개인식별번호'\n",
      "0   1111최재명[데이터사]  21512078\n",
      "1   2222이수빈[기계자동]  20100357\n",
      "2   2222노영진[글로벌테]  21102074\n",
      "3   1111최태호[기계공학]  20512026\n",
      "4   1111박정덕[자동차공]  21512082\n",
      "5   2222임수현[행정학과]  21101101\n",
      "6   1111최재명[데이터사]  21512078\n",
      "7    2222오세연[ITM]  21102044\n",
      "8   1111안상훈[기계시스]  21100113\n",
      "9   2222서승희[컴퓨터공]  20520017\n",
      "10  2222우선주[산업디자]  20512077\n",
      "11  1111박성현[기계자동]  18100279\n",
      "12  2222구지인[데이터사]  20510021\n",
      "13  2222손현지[기계자동]  18100301\n",
      "14  1111김정윤[기계시스]  18100068\n",
      "15   1111김민[전자IT]  17101424\n",
      "16  2222김진영[안전공학]  17100416\n",
      "17  1111강지노[화공생명]  20101606\n",
      "18   1111김종백[데이터]  21510096\n",
      "19  1111안상훈[기계시스]  21100113\n",
      "20  1111김재권[전기정보]  20100580\n",
      "21   1111조권능[대학원]  21510010\n",
      "22  2222박민영[컴퓨터공]  21101185\n",
      "23  2222김제나[식품공학]  21510168\n",
      "24  1111권용준[정밀화학]  17101683\n",
      "25  1111정종연[기계자동]  18100375\n",
      "26  1111강병선[컴퓨터공]  17101181\n",
      "27  2222임예진[화공생명]  19101643\n",
      "28    1111노원채[건축]  21510131\n",
      "29  1111응웬민[컴퓨터공]  21510142\n",
      "30  1111김성렬[건설시스]  20512049\n",
      "31  2222김예림[산업디자]  20100946\n",
      "32   2222임세하[건시공]  17100780\n",
      "33  2222황지원[안전공학]  17100468\n",
      "34  1111조영빈[건설시스]  21510124\n",
      "35  2222고재희[신소재공]  19100474\n",
      "36  2222신서애[금속공예]  21100872\n",
      "37  2222조은해[에너지환]  20610048\n"
     ]
    }
   ],
   "source": [
    "df_merge_name = pd.DataFrame()\n",
    "\n",
    "import openpyxl \n",
    "import datetime as dt \n",
    "\n",
    "x = dt.datetime.now()\n",
    "date = x.day\n",
    "weekday = x.weekday()\n",
    "\n",
    "monday_date = date-weekday\n",
    "print(date)\n",
    "print(monday_date)\n",
    "\n",
    "\n",
    "writer= pd.ExcelWriter(\"C:/Users/samsung/OneDrive/바탕 화면/project/출입기록통합.xlsx\")\n",
    "for i in range(monday_date,date+1):\n",
    "    df=pd.read_excel(\"C:/Users/samsung/OneDrive/바탕 화면/project/출입기록 22.01.0{}.xls\".format(i))\n",
    "    df[[\"'이름'\",\"'개인식별번호'\"]].to_excel(writer, sheet_name=\"{}일\".format(i))\n",
    "    print(df[[\"'이름'\",\"'개인식별번호'\"]])\n",
    "writer.save()\n",
    "    #print(df_merge_name[i])\n",
    "\n",
    "#df_merge_name.to_excel(\"C:/Users/samsung/OneDrive/바탕 화면/project/total.xlsx\")\n",
    "\n"
   ]
  },
  {
   "cell_type": "markdown",
   "metadata": {},
   "source": [
    "gui"
   ]
  },
  {
   "cell_type": "code",
   "execution_count": 3,
   "metadata": {},
   "outputs": [
    {
     "name": "stdout",
     "output_type": "stream",
     "text": [
      "Collecting PyQt5\n",
      "  Downloading PyQt5-5.15.6-cp36-abi3-win_amd64.whl (6.7 MB)\n",
      "Collecting PyQt5-sip<13,>=12.8\n",
      "  Downloading PyQt5_sip-12.9.0-cp39-cp39-win_amd64.whl (63 kB)\n",
      "Collecting PyQt5-Qt5>=5.15.2\n",
      "  Downloading PyQt5_Qt5-5.15.2-py3-none-win_amd64.whl (50.1 MB)\n",
      "Installing collected packages: PyQt5-sip, PyQt5-Qt5, PyQt5\n",
      "Successfully installed PyQt5-5.15.6 PyQt5-Qt5-5.15.2 PyQt5-sip-12.9.0\n",
      "Note: you may need to restart the kernel to use updated packages.\n"
     ]
    },
    {
     "name": "stderr",
     "output_type": "stream",
     "text": [
      "  WARNING: The scripts pylupdate5.exe, pyrcc5.exe and pyuic5.exe are installed in 'C:\\Users\\samsung\\AppData\\Local\\Programs\\Python\\Python39\\Scripts' which is not on PATH.\n",
      "  Consider adding this directory to PATH or, if you prefer to suppress this warning, use --no-warn-script-location.\n",
      "WARNING: You are using pip version 21.1.1; however, version 21.3.1 is available.\n",
      "You should consider upgrading via the 'C:\\Users\\samsung\\AppData\\Local\\Programs\\Python\\Python39\\python.exe -m pip install --upgrade pip' command.\n"
     ]
    }
   ],
   "source": [
    "pip install PyQt5"
   ]
  },
  {
   "cell_type": "code",
   "execution_count": 2,
   "metadata": {},
   "outputs": [],
   "source": [
    "from PyQt5.QtWidgets import *\n",
    "from PyQt5 import uic\n",
    "import sys \n",
    "\n",
    "ui_file = \"./test.ui\"\n",
    "class MainDialog(QDialog):\n",
    "    def __init__(self):\n",
    "        QDialog.__init__(self, None)\n",
    "        uic.loadUi(ui_file, self)\n",
    "        self.pushButton.clicked.connect(self.ButtonClicked) \n",
    "\n",
    "    def buttonClicked(self):\n",
    "        result = self.lineEdit.text()\n",
    "        self.label.setText(result)\n",
    "\n",
    "\n",
    "    \n",
    "\n",
    "\n",
    "\n",
    "\n",
    "app = QApplication(sys.argv)\n",
    "main_dialog = MainDialog()\n",
    "main_dialog.show()\n",
    "sys.exit(app.exec())"
   ]
  }
 ],
 "metadata": {
  "interpreter": {
   "hash": "dc92064451640916d212478069095622d434b235013735ede0977f7ddf016bf5"
  },
  "kernelspec": {
   "display_name": "Python 3.9.5 64-bit",
   "language": "python",
   "name": "python3"
  },
  "language_info": {
   "codemirror_mode": {
    "name": "ipython",
    "version": 3
   },
   "file_extension": ".py",
   "mimetype": "text/x-python",
   "name": "python",
   "nbconvert_exporter": "python",
   "pygments_lexer": "ipython3",
   "version": "3.9.5"
  },
  "orig_nbformat": 4
 },
 "nbformat": 4,
 "nbformat_minor": 2
}
