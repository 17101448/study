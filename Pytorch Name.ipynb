{
 "cells": [
  {
   "cell_type": "code",
   "execution_count": null,
   "metadata": {},
   "outputs": [],
   "source": []
  },
  {
   "cell_type": "markdown",
   "metadata": {},
   "source": [
    "### Tensor \n",
    "\n",
    "파이토치의 기본단위 \n",
    "데이터가 리스트나 어레이로 되어있을 경우 텐서로 변환해야함 "
   ]
  },
  {
   "cell_type": "code",
   "execution_count": 2,
   "metadata": {},
   "outputs": [],
   "source": [
    "import torch \n",
    "import numpy as np "
   ]
  },
  {
   "cell_type": "code",
   "execution_count": null,
   "metadata": {},
   "outputs": [],
   "source": [
    "x= torch.empty(5,4)\n",
    "print(x)"
   ]
  },
  {
   "cell_type": "code",
   "execution_count": null,
   "metadata": {},
   "outputs": [],
   "source": [
    "torch.ones(3)"
   ]
  },
  {
   "cell_type": "code",
   "execution_count": 3,
   "metadata": {},
   "outputs": [
    {
     "data": {
      "text/plain": [
       "tensor([0., 0., 0.])"
      ]
     },
     "execution_count": 3,
     "metadata": {},
     "output_type": "execute_result"
    }
   ],
   "source": [
    "torch.zeros(3)"
   ]
  },
  {
   "cell_type": "code",
   "execution_count": 9,
   "metadata": {},
   "outputs": [
    {
     "data": {
      "text/plain": [
       "torch.Size([3])"
      ]
     },
     "execution_count": 9,
     "metadata": {},
     "output_type": "execute_result"
    }
   ],
   "source": [
    "r = np.array([4,56,7])\n",
    "x= torch.tensor(r)\n",
    "\n",
    "type(x)\n",
    "x.size()"
   ]
  },
  {
   "cell_type": "code",
   "execution_count": 11,
   "metadata": {},
   "outputs": [
    {
     "data": {
      "text/plain": [
       "tensor([[0.5752, 1.0073],\n",
       "        [0.5258, 0.6946]])"
      ]
     },
     "execution_count": 11,
     "metadata": {},
     "output_type": "execute_result"
    }
   ],
   "source": [
    "y= torch.rand(2,2)\n",
    "x1 = torch.rand(2,2)\n",
    "\n",
    "x1+y\n",
    "torch.add(x1,y)\n",
    "#y값이 유지되는 덧셈  \n",
    "y.add(x1)\n",
    "#더한후 y값 초기화\n",
    "#언더바는 대체 표현이다. \n",
    "y.add_(x)"
   ]
  },
  {
   "cell_type": "code",
   "execution_count": 13,
   "metadata": {},
   "outputs": [
    {
     "data": {
      "text/plain": [
       "tensor([0.7183, 0.3997])"
      ]
     },
     "execution_count": 13,
     "metadata": {},
     "output_type": "execute_result"
    }
   ],
   "source": [
    "y[1,1]\n",
    "y[:,1]"
   ]
  },
  {
   "cell_type": "code",
   "execution_count": 14,
   "metadata": {},
   "outputs": [
    {
     "name": "stdout",
     "output_type": "stream",
     "text": [
      "tensor([[0.3725, 0.9307, 0.9546, 0.0903, 0.0268, 0.9923, 0.0481, 0.6587],\n",
      "        [0.7933, 0.9776, 0.3548, 0.8095, 0.4908, 0.9806, 0.9912, 0.4090],\n",
      "        [0.8517, 0.3112, 0.9897, 0.1619, 0.9919, 0.0997, 0.4881, 0.0430],\n",
      "        [0.5855, 0.6494, 0.1726, 0.3849, 0.2014, 0.8049, 0.9551, 0.8161],\n",
      "        [0.2887, 0.5381, 0.4880, 0.5149, 0.6332, 0.1305, 0.9159, 0.2501],\n",
      "        [0.8776, 0.9703, 0.2563, 0.9443, 0.2158, 0.7410, 0.2235, 0.1966],\n",
      "        [0.9458, 0.0124, 0.0515, 0.7846, 0.4196, 0.3257, 0.2014, 0.1426],\n",
      "        [0.9596, 0.5248, 0.8730, 0.8747, 0.0821, 0.7627, 0.1009, 0.9065]])\n"
     ]
    }
   ],
   "source": [
    "x=torch.rand(8,8)\n",
    "print(x)"
   ]
  },
  {
   "cell_type": "code",
   "execution_count": 15,
   "metadata": {},
   "outputs": [
    {
     "data": {
      "text/plain": [
       "tensor([0.3725, 0.9307, 0.9546, 0.0903, 0.0268, 0.9923, 0.0481, 0.6587, 0.7933,\n",
       "        0.9776, 0.3548, 0.8095, 0.4908, 0.9806, 0.9912, 0.4090, 0.8517, 0.3112,\n",
       "        0.9897, 0.1619, 0.9919, 0.0997, 0.4881, 0.0430, 0.5855, 0.6494, 0.1726,\n",
       "        0.3849, 0.2014, 0.8049, 0.9551, 0.8161, 0.2887, 0.5381, 0.4880, 0.5149,\n",
       "        0.6332, 0.1305, 0.9159, 0.2501, 0.8776, 0.9703, 0.2563, 0.9443, 0.2158,\n",
       "        0.7410, 0.2235, 0.1966, 0.9458, 0.0124, 0.0515, 0.7846, 0.4196, 0.3257,\n",
       "        0.2014, 0.1426, 0.9596, 0.5248, 0.8730, 0.8747, 0.0821, 0.7627, 0.1009,\n",
       "        0.9065])"
      ]
     },
     "execution_count": 15,
     "metadata": {},
     "output_type": "execute_result"
    }
   ],
   "source": [
    "x.view(64)"
   ]
  },
  {
   "cell_type": "code",
   "execution_count": 16,
   "metadata": {},
   "outputs": [
    {
     "data": {
      "text/plain": [
       "tensor([[0.3725, 0.9307, 0.9546, 0.0903, 0.0268, 0.9923, 0.0481, 0.6587, 0.7933,\n",
       "         0.9776, 0.3548, 0.8095, 0.4908, 0.9806, 0.9912, 0.4090],\n",
       "        [0.8517, 0.3112, 0.9897, 0.1619, 0.9919, 0.0997, 0.4881, 0.0430, 0.5855,\n",
       "         0.6494, 0.1726, 0.3849, 0.2014, 0.8049, 0.9551, 0.8161],\n",
       "        [0.2887, 0.5381, 0.4880, 0.5149, 0.6332, 0.1305, 0.9159, 0.2501, 0.8776,\n",
       "         0.9703, 0.2563, 0.9443, 0.2158, 0.7410, 0.2235, 0.1966],\n",
       "        [0.9458, 0.0124, 0.0515, 0.7846, 0.4196, 0.3257, 0.2014, 0.1426, 0.9596,\n",
       "         0.5248, 0.8730, 0.8747, 0.0821, 0.7627, 0.1009, 0.9065]])"
      ]
     },
     "execution_count": 16,
     "metadata": {},
     "output_type": "execute_result"
    }
   ],
   "source": [
    "x.view(4,16)"
   ]
  },
  {
   "cell_type": "code",
   "execution_count": 18,
   "metadata": {},
   "outputs": [
    {
     "data": {
      "text/plain": [
       "tensor([[[0.3725, 0.9307, 0.9546, 0.0903],\n",
       "         [0.0268, 0.9923, 0.0481, 0.6587],\n",
       "         [0.7933, 0.9776, 0.3548, 0.8095],\n",
       "         [0.4908, 0.9806, 0.9912, 0.4090]],\n",
       "\n",
       "        [[0.8517, 0.3112, 0.9897, 0.1619],\n",
       "         [0.9919, 0.0997, 0.4881, 0.0430],\n",
       "         [0.5855, 0.6494, 0.1726, 0.3849],\n",
       "         [0.2014, 0.8049, 0.9551, 0.8161]],\n",
       "\n",
       "        [[0.2887, 0.5381, 0.4880, 0.5149],\n",
       "         [0.6332, 0.1305, 0.9159, 0.2501],\n",
       "         [0.8776, 0.9703, 0.2563, 0.9443],\n",
       "         [0.2158, 0.7410, 0.2235, 0.1966]],\n",
       "\n",
       "        [[0.9458, 0.0124, 0.0515, 0.7846],\n",
       "         [0.4196, 0.3257, 0.2014, 0.1426],\n",
       "         [0.9596, 0.5248, 0.8730, 0.8747],\n",
       "         [0.0821, 0.7627, 0.1009, 0.9065]]])"
      ]
     },
     "execution_count": 18,
     "metadata": {},
     "output_type": "execute_result"
    }
   ],
   "source": [
    "# -1을 넣으면 하나의 값만 정해도 자동으로 들어감 \n",
    "x.view(-1,4,4)"
   ]
  },
  {
   "cell_type": "code",
   "execution_count": 19,
   "metadata": {},
   "outputs": [],
   "source": [
    "x = torch.ones(1)"
   ]
  },
  {
   "cell_type": "code",
   "execution_count": 23,
   "metadata": {},
   "outputs": [
    {
     "data": {
      "text/plain": [
       "tensor([1.])"
      ]
     },
     "execution_count": 23,
     "metadata": {},
     "output_type": "execute_result"
    }
   ],
   "source": [
    "x\n"
   ]
  },
  {
   "cell_type": "code",
   "execution_count": 22,
   "metadata": {},
   "outputs": [
    {
     "data": {
      "text/plain": [
       "1.0"
      ]
     },
     "execution_count": 22,
     "metadata": {},
     "output_type": "execute_result"
    }
   ],
   "source": [
    "#tensor의 값만 뽑아내고 싶을 경우 \n",
    "x.item()"
   ]
  }
 ],
 "metadata": {
  "interpreter": {
   "hash": "97ae724bfa85b9b34df7982b8bb8c7216f435b92902d749e4263f71162bea840"
  },
  "kernelspec": {
   "display_name": "Python 3.8.5 64-bit ('base': conda)",
   "language": "python",
   "name": "python3"
  },
  "language_info": {
   "codemirror_mode": {
    "name": "ipython",
    "version": 3
   },
   "file_extension": ".py",
   "mimetype": "text/x-python",
   "name": "python",
   "nbconvert_exporter": "python",
   "pygments_lexer": "ipython3",
   "version": "3.8.5"
  },
  "orig_nbformat": 4
 },
 "nbformat": 4,
 "nbformat_minor": 2
}
