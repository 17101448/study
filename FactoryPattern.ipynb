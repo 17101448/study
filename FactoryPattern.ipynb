{
 "cells": [
  {
   "cell_type": "code",
   "execution_count": null,
   "metadata": {},
   "outputs": [],
   "source": []
  },
  {
   "cell_type": "markdown",
   "metadata": {},
   "source": [
    "## Factory Pattern \n",
    "\n",
    "- 클래스를 묶어 쉽게 관리 \n",
    "- \n",
    "딥러닝시 모든 모델에 대해 돌려봐야할 필요가 있음 \n",
    "한 파일내에 구조화 \n",
    "\n"
   ]
  },
  {
   "cell_type": "code",
   "execution_count": null,
   "metadata": {},
   "outputs": [],
   "source": [
    "class Base:\n",
    "    def __init__(self, img_size):\n",
    "        self.size = img_size\n",
    "\n",
    "class ResNet(Base):\n",
    "    def train(self):\n",
    "        print(f\"implementation of ResNet, img size : {self.size}x{self.size}\")\n",
    "\n",
    "class Inception(Base):\n",
    "    def train(self):\n",
    "        print(f\"implementation of ResNet, img size : {self.size}x{self.size}\")\n",
    "\n",
    "class Attention(Base):\n",
    "    def train(self):\n",
    "        print(f\"implementation of ResNet, img size : {self.size}x{self.size}\")\n",
    "\n",
    "# 반복되는 부분은 Base class로 만든다. \n",
    "\n",
    "\n",
    "\n",
    "# \n",
    "\n",
    "class ModelFactory(object):\n",
    "    def __init__(self):\n",
    "        pass\n",
    "    \n",
    "    def create_model(self, modeltype, img_size):\n",
    "        if modeltype == 'ResNet':\n",
    "            model = ResNet(img_size)\n",
    "        elif modeltype == \"Inception\"\n",
    "            model = Inception(img_size)\n",
    "        elif modeltype == \"Attention\":\n",
    "            model = Attention(img_size)\n",
    "        else:\n",
    "            print(\"Check the model type again\")\n",
    "        \n",
    "        return model.train()\n",
    "    \n",
    "    if __name__ == '__main__':\n",
    "        model_factory = ModelFactory()\n",
    "        model_factory.create_model(\"Attention\", 80)\n",
    "        \n",
    "            "
   ]
  }
 ],
 "metadata": {
  "language_info": {
   "name": "python"
  },
  "orig_nbformat": 4
 },
 "nbformat": 4,
 "nbformat_minor": 2
}
